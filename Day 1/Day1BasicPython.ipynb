{
 "cells": [
  {
   "cell_type": "code",
   "execution_count": 1,
   "id": "14cd9dd4-7f77-4784-9caa-d143cd9902b2",
   "metadata": {},
   "outputs": [],
   "source": [
    "a = 10"
   ]
  },
  {
   "cell_type": "code",
   "execution_count": 2,
   "id": "7ea7896f-fd69-4c2d-a89c-03601666ae1c",
   "metadata": {},
   "outputs": [
    {
     "data": {
      "text/plain": [
       "10"
      ]
     },
     "execution_count": 2,
     "metadata": {},
     "output_type": "execute_result"
    }
   ],
   "source": [
    "a"
   ]
  },
  {
   "cell_type": "code",
   "execution_count": 3,
   "id": "00dbbdd6-b90c-4591-a34e-ee3ff3db75f9",
   "metadata": {},
   "outputs": [
    {
     "data": {
      "text/plain": [
       "30"
      ]
     },
     "execution_count": 3,
     "metadata": {},
     "output_type": "execute_result"
    }
   ],
   "source": [
    "a + 20"
   ]
  },
  {
   "cell_type": "code",
   "execution_count": 5,
   "id": "00dd710d-3a0c-4de3-beb6-51e1d42f20cf",
   "metadata": {},
   "outputs": [
    {
     "data": {
      "text/plain": [
       "int"
      ]
     },
     "execution_count": 5,
     "metadata": {},
     "output_type": "execute_result"
    }
   ],
   "source": [
    "type(a)"
   ]
  },
  {
   "cell_type": "code",
   "execution_count": 6,
   "id": "ba501608-0b99-440f-a495-df97094f638e",
   "metadata": {},
   "outputs": [],
   "source": [
    "s = \"Haidar\""
   ]
  },
  {
   "cell_type": "code",
   "execution_count": 7,
   "id": "2bc117a4-b2be-4715-bb26-39397a42148a",
   "metadata": {},
   "outputs": [
    {
     "data": {
      "text/plain": [
       "str"
      ]
     },
     "execution_count": 7,
     "metadata": {},
     "output_type": "execute_result"
    }
   ],
   "source": [
    "type(s)"
   ]
  },
  {
   "cell_type": "code",
   "execution_count": 8,
   "id": "aefbdc72-fb54-4b97-ab27-299127eabab4",
   "metadata": {},
   "outputs": [],
   "source": [
    "b= 56.54"
   ]
  },
  {
   "cell_type": "code",
   "execution_count": 9,
   "id": "e2b7ec9b-3d1b-4b8c-8e21-3067f00f3005",
   "metadata": {},
   "outputs": [
    {
     "data": {
      "text/plain": [
       "float"
      ]
     },
     "execution_count": 9,
     "metadata": {},
     "output_type": "execute_result"
    }
   ],
   "source": [
    "type(b)"
   ]
  },
  {
   "cell_type": "code",
   "execution_count": 10,
   "id": "601be493-e620-4567-9609-0e7d654d2b8e",
   "metadata": {},
   "outputs": [],
   "source": [
    "s1 = 'Raza'"
   ]
  },
  {
   "cell_type": "code",
   "execution_count": 11,
   "id": "e8edda9c-42f3-428a-8711-3e49592c6839",
   "metadata": {},
   "outputs": [
    {
     "data": {
      "text/plain": [
       "str"
      ]
     },
     "execution_count": 11,
     "metadata": {},
     "output_type": "execute_result"
    }
   ],
   "source": [
    "type(s1)"
   ]
  },
  {
   "cell_type": "code",
   "execution_count": 12,
   "id": "b86b5e69-0579-4bb1-97e1-66b80b6552aa",
   "metadata": {},
   "outputs": [],
   "source": [
    "s = \"Farid\""
   ]
  },
  {
   "cell_type": "code",
   "execution_count": 13,
   "id": "29756833-7b0e-47dd-ac26-6439048f524c",
   "metadata": {},
   "outputs": [],
   "source": [
    "S = \"Quaiser\""
   ]
  },
  {
   "cell_type": "code",
   "execution_count": 14,
   "id": "921fc995-f696-4b9f-aaf8-b099621dad22",
   "metadata": {},
   "outputs": [
    {
     "data": {
      "text/plain": [
       "'Farid'"
      ]
     },
     "execution_count": 14,
     "metadata": {},
     "output_type": "execute_result"
    }
   ],
   "source": [
    "s"
   ]
  },
  {
   "cell_type": "code",
   "execution_count": 15,
   "id": "6ebf7640-760e-4ad2-8d4b-81d0f699775a",
   "metadata": {},
   "outputs": [
    {
     "data": {
      "text/plain": [
       "'Quaiser'"
      ]
     },
     "execution_count": 15,
     "metadata": {},
     "output_type": "execute_result"
    }
   ],
   "source": [
    "S"
   ]
  },
  {
   "cell_type": "code",
   "execution_count": 16,
   "id": "1332be7e-1798-4f7a-8146-3fd1e38ac8e6",
   "metadata": {},
   "outputs": [],
   "source": [
    "int = 1"
   ]
  },
  {
   "cell_type": "code",
   "execution_count": 17,
   "id": "4f7e9541-ac8e-435c-8ee8-c073a45e3ebd",
   "metadata": {},
   "outputs": [
    {
     "data": {
      "text/plain": [
       "1"
      ]
     },
     "execution_count": 17,
     "metadata": {},
     "output_type": "execute_result"
    }
   ],
   "source": [
    "int"
   ]
  },
  {
   "cell_type": "code",
   "execution_count": 18,
   "id": "af521fa5-1f3a-431b-ac01-34e6bf311e66",
   "metadata": {},
   "outputs": [
    {
     "ename": "SyntaxError",
     "evalue": "invalid syntax (2864081867.py, line 1)",
     "output_type": "error",
     "traceback": [
      "\u001b[1;36m  Cell \u001b[1;32mIn[18], line 1\u001b[1;36m\u001b[0m\n\u001b[1;33m    s% = \"Asad\"\u001b[0m\n\u001b[1;37m       ^\u001b[0m\n\u001b[1;31mSyntaxError\u001b[0m\u001b[1;31m:\u001b[0m invalid syntax\n"
     ]
    }
   ],
   "source": [
    "s% = \"Asad\""
   ]
  },
  {
   "cell_type": "code",
   "execution_count": 19,
   "id": "9c2e7bf0-0e85-4b9b-8167-f3ac094c8a21",
   "metadata": {},
   "outputs": [
    {
     "ename": "SyntaxError",
     "evalue": "invalid syntax (1564382940.py, line 1)",
     "output_type": "error",
     "traceback": [
      "\u001b[1;36m  Cell \u001b[1;32mIn[19], line 1\u001b[1;36m\u001b[0m\n\u001b[1;33m    s& = \"asdvd\"\u001b[0m\n\u001b[1;37m       ^\u001b[0m\n\u001b[1;31mSyntaxError\u001b[0m\u001b[1;31m:\u001b[0m invalid syntax\n"
     ]
    }
   ],
   "source": [
    "s& = \"asdvd\""
   ]
  },
  {
   "cell_type": "code",
   "execution_count": 21,
   "id": "8188a168-bee9-4d9f-9a98-95299d621b1f",
   "metadata": {},
   "outputs": [
    {
     "data": {
      "text/plain": [
       "str"
      ]
     },
     "execution_count": 21,
     "metadata": {},
     "output_type": "execute_result"
    }
   ],
   "source": [
    "type(s)"
   ]
  },
  {
   "cell_type": "raw",
   "id": "3c30fc25-c05b-40d3-9710-4f656f84a872",
   "metadata": {},
   "source": []
  },
  {
   "cell_type": "code",
   "execution_count": 22,
   "id": "0948f4ee-8043-4a45-a090-c9fe62c27764",
   "metadata": {},
   "outputs": [
    {
     "name": "stdout",
     "output_type": "stream",
     "text": [
      "Farid\n"
     ]
    }
   ],
   "source": [
    "print(s)"
   ]
  },
  {
   "cell_type": "code",
   "execution_count": 23,
   "id": "9382de2a-00f5-4fcf-bdba-868e08a1d6a8",
   "metadata": {},
   "outputs": [],
   "source": [
    "b = True"
   ]
  },
  {
   "cell_type": "code",
   "execution_count": 24,
   "id": "f73127d8-be57-4e15-ac8f-0f266d4917cd",
   "metadata": {},
   "outputs": [
    {
     "data": {
      "text/plain": [
       "True"
      ]
     },
     "execution_count": 24,
     "metadata": {},
     "output_type": "execute_result"
    }
   ],
   "source": [
    "b"
   ]
  },
  {
   "cell_type": "code",
   "execution_count": 25,
   "id": "7181d3ce-fd9e-4726-814f-4eb42bb6f295",
   "metadata": {},
   "outputs": [],
   "source": [
    "b1 = False"
   ]
  },
  {
   "cell_type": "code",
   "execution_count": 26,
   "id": "ffe3b9df-79fd-45aa-b614-85f5d8a167dd",
   "metadata": {},
   "outputs": [
    {
     "data": {
      "text/plain": [
       "False"
      ]
     },
     "execution_count": 26,
     "metadata": {},
     "output_type": "execute_result"
    }
   ],
   "source": [
    "b1"
   ]
  },
  {
   "cell_type": "code",
   "execution_count": 27,
   "id": "4129ca5c-5c5c-455f-bd02-069a02f34674",
   "metadata": {},
   "outputs": [
    {
     "data": {
      "text/plain": [
       "1"
      ]
     },
     "execution_count": 27,
     "metadata": {},
     "output_type": "execute_result"
    }
   ],
   "source": [
    "True + False"
   ]
  },
  {
   "cell_type": "code",
   "execution_count": 28,
   "id": "17f42484-4184-4994-b28d-91e0063d2225",
   "metadata": {},
   "outputs": [
    {
     "data": {
      "text/plain": [
       "0"
      ]
     },
     "execution_count": 28,
     "metadata": {},
     "output_type": "execute_result"
    }
   ],
   "source": [
    "False - False"
   ]
  },
  {
   "cell_type": "code",
   "execution_count": 29,
   "id": "d86cfa81-ede6-45fc-af9f-abb1b13da180",
   "metadata": {},
   "outputs": [
    {
     "data": {
      "text/plain": [
       "1"
      ]
     },
     "execution_count": 29,
     "metadata": {},
     "output_type": "execute_result"
    }
   ],
   "source": [
    "True * True"
   ]
  },
  {
   "cell_type": "code",
   "execution_count": 30,
   "id": "be53db39-2b4c-4c0a-85ca-35dda82bc55d",
   "metadata": {},
   "outputs": [],
   "source": [
    "c = 7 + 6j"
   ]
  },
  {
   "cell_type": "code",
   "execution_count": 31,
   "id": "004ee2db-4053-409f-8a8c-c2fcfb7b0aa1",
   "metadata": {},
   "outputs": [
    {
     "data": {
      "text/plain": [
       "complex"
      ]
     },
     "execution_count": 31,
     "metadata": {},
     "output_type": "execute_result"
    }
   ],
   "source": [
    "type(c)"
   ]
  },
  {
   "cell_type": "code",
   "execution_count": 32,
   "id": "c7326f81-1fea-48f0-af65-b0e17b18ed94",
   "metadata": {},
   "outputs": [
    {
     "data": {
      "text/plain": [
       "7.0"
      ]
     },
     "execution_count": 32,
     "metadata": {},
     "output_type": "execute_result"
    }
   ],
   "source": [
    "c.real "
   ]
  },
  {
   "cell_type": "code",
   "execution_count": 34,
   "id": "39ce6461-20b7-4786-89be-8007c010b5bf",
   "metadata": {},
   "outputs": [
    {
     "data": {
      "text/plain": [
       "6.0"
      ]
     },
     "execution_count": 34,
     "metadata": {},
     "output_type": "execute_result"
    }
   ],
   "source": [
    "c.imag"
   ]
  },
  {
   "cell_type": "code",
   "execution_count": 35,
   "id": "176dcbdd-0909-457e-94ca-c79912e3c981",
   "metadata": {},
   "outputs": [],
   "source": [
    "s = \"Tahmeed\""
   ]
  },
  {
   "cell_type": "code",
   "execution_count": 36,
   "id": "02cf9b99-e814-4d89-9f8b-e7c9d138b4fc",
   "metadata": {},
   "outputs": [
    {
     "data": {
      "text/plain": [
       "'Tahmeed'"
      ]
     },
     "execution_count": 36,
     "metadata": {},
     "output_type": "execute_result"
    }
   ],
   "source": [
    "s"
   ]
  },
  {
   "cell_type": "code",
   "execution_count": 37,
   "id": "32695a22-9b39-4c84-8055-359d5c875a88",
   "metadata": {},
   "outputs": [
    {
     "ename": "TypeError",
     "evalue": "can only concatenate str (not \"int\") to str",
     "output_type": "error",
     "traceback": [
      "\u001b[1;31m---------------------------------------------------------------------------\u001b[0m",
      "\u001b[1;31mTypeError\u001b[0m                                 Traceback (most recent call last)",
      "Cell \u001b[1;32mIn[37], line 1\u001b[0m\n\u001b[1;32m----> 1\u001b[0m \u001b[43ms\u001b[49m\u001b[43m \u001b[49m\u001b[38;5;241;43m+\u001b[39;49m\u001b[43m \u001b[49m\u001b[38;5;241;43m3\u001b[39;49m\n",
      "\u001b[1;31mTypeError\u001b[0m: can only concatenate str (not \"int\") to str"
     ]
    }
   ],
   "source": [
    "s + 3"
   ]
  },
  {
   "cell_type": "code",
   "execution_count": 38,
   "id": "d59646cc-0550-48eb-a1f8-dc465d624729",
   "metadata": {},
   "outputs": [
    {
     "data": {
      "text/plain": [
       "'Tahmeed3'"
      ]
     },
     "execution_count": 38,
     "metadata": {},
     "output_type": "execute_result"
    }
   ],
   "source": [
    "s + \"3\""
   ]
  },
  {
   "cell_type": "code",
   "execution_count": 39,
   "id": "5bd8fcba-031e-45a0-8284-bb319fdba655",
   "metadata": {},
   "outputs": [
    {
     "data": {
      "text/plain": [
       "'Tahmeed3'"
      ]
     },
     "execution_count": 39,
     "metadata": {},
     "output_type": "execute_result"
    }
   ],
   "source": [
    "s + str(3)"
   ]
  },
  {
   "cell_type": "code",
   "execution_count": 40,
   "id": "73ae8167-6618-4ed4-8459-1868aca0fcd9",
   "metadata": {},
   "outputs": [],
   "source": [
    "student = \"Pintu\""
   ]
  },
  {
   "cell_type": "code",
   "execution_count": 41,
   "id": "289d31eb-c51a-49bc-82d0-6a8878039f6b",
   "metadata": {},
   "outputs": [
    {
     "name": "stdout",
     "output_type": "stream",
     "text": [
      "Pintu\n"
     ]
    }
   ],
   "source": [
    "print(student)"
   ]
  },
  {
   "cell_type": "code",
   "execution_count": 115,
   "id": "141ac407-1633-4225-b1d6-3718d716503d",
   "metadata": {},
   "outputs": [],
   "source": [
    "###Python string basic"
   ]
  },
  {
   "cell_type": "code",
   "execution_count": 43,
   "id": "7240ec48-2bd3-45fd-9c68-4aef46dd7100",
   "metadata": {},
   "outputs": [],
   "source": [
    "s =\"Pintu\""
   ]
  },
  {
   "cell_type": "code",
   "execution_count": 44,
   "id": "1d4da520-f0e7-4040-83f2-e1c608166039",
   "metadata": {},
   "outputs": [
    {
     "data": {
      "text/plain": [
       "str"
      ]
     },
     "execution_count": 44,
     "metadata": {},
     "output_type": "execute_result"
    }
   ],
   "source": [
    "type(s)"
   ]
  },
  {
   "cell_type": "code",
   "execution_count": 45,
   "id": "5320f779-c08b-416e-b876-3a1ec1cebc8a",
   "metadata": {},
   "outputs": [
    {
     "data": {
      "text/plain": [
       "'P'"
      ]
     },
     "execution_count": 45,
     "metadata": {},
     "output_type": "execute_result"
    }
   ],
   "source": [
    "s[0]"
   ]
  },
  {
   "cell_type": "code",
   "execution_count": 47,
   "id": "5d9cf35a-0ea3-4ce8-8955-a65fdee5e626",
   "metadata": {},
   "outputs": [
    {
     "data": {
      "text/plain": [
       "'u'"
      ]
     },
     "execution_count": 47,
     "metadata": {},
     "output_type": "execute_result"
    }
   ],
   "source": [
    "s[4]"
   ]
  },
  {
   "cell_type": "code",
   "execution_count": 48,
   "id": "e61036fa-7283-430f-8267-c6ece7c39a9f",
   "metadata": {},
   "outputs": [
    {
     "data": {
      "text/plain": [
       "'u'"
      ]
     },
     "execution_count": 48,
     "metadata": {},
     "output_type": "execute_result"
    }
   ],
   "source": [
    "s[-1]"
   ]
  },
  {
   "cell_type": "code",
   "execution_count": 49,
   "id": "7ad5632a-59a6-49f4-9973-d5fc360ef980",
   "metadata": {},
   "outputs": [],
   "source": [
    "s1 = \"Farid\""
   ]
  },
  {
   "cell_type": "code",
   "execution_count": 50,
   "id": "5a53536f-f424-42a2-a241-87f9af5f9917",
   "metadata": {},
   "outputs": [
    {
     "data": {
      "text/plain": [
       "'F'"
      ]
     },
     "execution_count": 50,
     "metadata": {},
     "output_type": "execute_result"
    }
   ],
   "source": [
    "s1[0]"
   ]
  },
  {
   "cell_type": "code",
   "execution_count": 51,
   "id": "56338bfe-3768-42ff-84b7-109572b16487",
   "metadata": {},
   "outputs": [
    {
     "data": {
      "text/plain": [
       "'d'"
      ]
     },
     "execution_count": 51,
     "metadata": {},
     "output_type": "execute_result"
    }
   ],
   "source": [
    "s1[-1]"
   ]
  },
  {
   "cell_type": "code",
   "execution_count": 52,
   "id": "5aabd836-a80a-4a0d-89bd-52adfd1320a5",
   "metadata": {},
   "outputs": [],
   "source": [
    "s2 = \"This is my very first progrsmming class\""
   ]
  },
  {
   "cell_type": "code",
   "execution_count": 53,
   "id": "30960f7a-6c84-4e2f-9ac6-78625c0f241c",
   "metadata": {},
   "outputs": [
    {
     "data": {
      "text/plain": [
       "'This is my very first progrsmming class'"
      ]
     },
     "execution_count": 53,
     "metadata": {},
     "output_type": "execute_result"
    }
   ],
   "source": [
    "s2"
   ]
  },
  {
   "cell_type": "code",
   "execution_count": 54,
   "id": "11759525-1b90-426c-ad9e-a1b38b22f3bb",
   "metadata": {},
   "outputs": [
    {
     "data": {
      "text/plain": [
       "'m'"
      ]
     },
     "execution_count": 54,
     "metadata": {},
     "output_type": "execute_result"
    }
   ],
   "source": [
    "s2[8]"
   ]
  },
  {
   "cell_type": "code",
   "execution_count": 56,
   "id": "f2d49555-7de2-472c-866c-c05085a89c2a",
   "metadata": {},
   "outputs": [
    {
     "data": {
      "text/plain": [
       "'t p'"
      ]
     },
     "execution_count": 56,
     "metadata": {},
     "output_type": "execute_result"
    }
   ],
   "source": [
    "s2[20:23]"
   ]
  },
  {
   "cell_type": "code",
   "execution_count": 57,
   "id": "6e4e3872-7606-4c49-a0a3-16445f062356",
   "metadata": {},
   "outputs": [
    {
     "data": {
      "text/plain": [
       "'s my very first progrsmm'"
      ]
     },
     "execution_count": 57,
     "metadata": {},
     "output_type": "execute_result"
    }
   ],
   "source": [
    "s2[6:30]"
   ]
  },
  {
   "cell_type": "code",
   "execution_count": 58,
   "id": "13681b50-92ea-4b9a-b006-c01b7e3eb5af",
   "metadata": {},
   "outputs": [
    {
     "data": {
      "text/plain": [
       "'sm eyfrtporm'"
      ]
     },
     "execution_count": 58,
     "metadata": {},
     "output_type": "execute_result"
    }
   ],
   "source": [
    "s2[6:30:2]"
   ]
  },
  {
   "cell_type": "code",
   "execution_count": 59,
   "id": "28e262fe-34d9-41ca-b72f-152e16a34fd8",
   "metadata": {},
   "outputs": [],
   "source": [
    "s= \"python\""
   ]
  },
  {
   "cell_type": "code",
   "execution_count": 61,
   "id": "376c2e5c-4f7d-4853-aad0-ba16b962dab8",
   "metadata": {},
   "outputs": [
    {
     "data": {
      "text/plain": [
       "''"
      ]
     },
     "execution_count": 61,
     "metadata": {},
     "output_type": "execute_result"
    }
   ],
   "source": [
    "s[0:8:-1]"
   ]
  },
  {
   "cell_type": "code",
   "execution_count": 64,
   "id": "70625553-6218-430b-88bf-1420f82b2e15",
   "metadata": {},
   "outputs": [
    {
     "data": {
      "text/plain": [
       "'nohty'"
      ]
     },
     "execution_count": 64,
     "metadata": {},
     "output_type": "execute_result"
    }
   ],
   "source": [
    "s[8:0:-1]"
   ]
  },
  {
   "cell_type": "code",
   "execution_count": 66,
   "id": "ae5714c3-da56-4a4c-a8cf-1bee334b5560",
   "metadata": {},
   "outputs": [
    {
     "data": {
      "text/plain": [
       "'pyt'"
      ]
     },
     "execution_count": 66,
     "metadata": {},
     "output_type": "execute_result"
    }
   ],
   "source": [
    "s[:-3]"
   ]
  },
  {
   "cell_type": "code",
   "execution_count": 67,
   "id": "39dcc18b-b403-40ce-a3bb-99b6e41f1686",
   "metadata": {},
   "outputs": [
    {
     "data": {
      "text/plain": [
       "'on'"
      ]
     },
     "execution_count": 67,
     "metadata": {},
     "output_type": "execute_result"
    }
   ],
   "source": [
    "s[-2:]"
   ]
  },
  {
   "cell_type": "code",
   "execution_count": 68,
   "id": "3d54035b-7865-4b4d-8af3-1a89819d2f29",
   "metadata": {},
   "outputs": [
    {
     "data": {
      "text/plain": [
       "'python'"
      ]
     },
     "execution_count": 68,
     "metadata": {},
     "output_type": "execute_result"
    }
   ],
   "source": [
    "s[::1]"
   ]
  },
  {
   "cell_type": "code",
   "execution_count": 69,
   "id": "7f93f545-ca1a-4a3c-9349-540df3201b3a",
   "metadata": {},
   "outputs": [
    {
     "data": {
      "text/plain": [
       "'python'"
      ]
     },
     "execution_count": 69,
     "metadata": {},
     "output_type": "execute_result"
    }
   ],
   "source": [
    "s[0:50:1]"
   ]
  },
  {
   "cell_type": "code",
   "execution_count": 70,
   "id": "f9d444eb-c889-4603-8345-d8eed77c0c39",
   "metadata": {},
   "outputs": [
    {
     "data": {
      "text/plain": [
       "'nohtyp'"
      ]
     },
     "execution_count": 70,
     "metadata": {},
     "output_type": "execute_result"
    }
   ],
   "source": [
    "s[::-1]"
   ]
  },
  {
   "cell_type": "code",
   "execution_count": 71,
   "id": "4fb3ad40-4d2a-4479-8e0e-30bfed637fc8",
   "metadata": {},
   "outputs": [
    {
     "ename": "SyntaxError",
     "evalue": "invalid syntax (1513985419.py, line 1)",
     "output_type": "error",
     "traceback": [
      "\u001b[1;36m  Cell \u001b[1;32mIn[71], line 1\u001b[1;36m\u001b[0m\n\u001b[1;33m    s[8:0:-1] = 'onthpy' how s will come?\u001b[0m\n\u001b[1;37m                         ^\u001b[0m\n\u001b[1;31mSyntaxError\u001b[0m\u001b[1;31m:\u001b[0m invalid syntax\n"
     ]
    }
   ],
   "source": [
    "s[8:0:-1] = 'onthpy' how s will come? "
   ]
  },
  {
   "cell_type": "code",
   "execution_count": 73,
   "id": "39b89271-761b-493a-abf5-af3b1a79d330",
   "metadata": {},
   "outputs": [],
   "source": [
    "s3= \"python\""
   ]
  },
  {
   "cell_type": "code",
   "execution_count": 74,
   "id": "8de71f54-3edf-42a3-849d-8dcc78f5dbe6",
   "metadata": {},
   "outputs": [
    {
     "data": {
      "text/plain": [
       "''"
      ]
     },
     "execution_count": 74,
     "metadata": {},
     "output_type": "execute_result"
    }
   ],
   "source": [
    "s3[-2:-7:1]"
   ]
  },
  {
   "cell_type": "code",
   "execution_count": 75,
   "id": "388a5288-60b7-486f-8d5f-7e0c1d209c7e",
   "metadata": {},
   "outputs": [
    {
     "data": {
      "text/plain": [
       "'pyth'"
      ]
     },
     "execution_count": 75,
     "metadata": {},
     "output_type": "execute_result"
    }
   ],
   "source": [
    "s3[-7:-2:1]"
   ]
  },
  {
   "cell_type": "code",
   "execution_count": 76,
   "id": "fe519a15-33bb-442c-876c-ea2997b53d2f",
   "metadata": {},
   "outputs": [
    {
     "data": {
      "text/plain": [
       "''"
      ]
     },
     "execution_count": 76,
     "metadata": {},
     "output_type": "execute_result"
    }
   ],
   "source": [
    "s[4:1]"
   ]
  },
  {
   "cell_type": "code",
   "execution_count": 77,
   "id": "9276c936-72f5-463b-9efa-f2405e59c338",
   "metadata": {},
   "outputs": [
    {
     "data": {
      "text/plain": [
       "'pytho'"
      ]
     },
     "execution_count": 77,
     "metadata": {},
     "output_type": "execute_result"
    }
   ],
   "source": [
    "s3[-7:-1:1]"
   ]
  },
  {
   "cell_type": "code",
   "execution_count": 78,
   "id": "431fc374-4dc9-4d5f-8cac-8ed3d6e80dd4",
   "metadata": {},
   "outputs": [
    {
     "data": {
      "text/plain": [
       "''"
      ]
     },
     "execution_count": 78,
     "metadata": {},
     "output_type": "execute_result"
    }
   ],
   "source": [
    "s3[-7:0:1]"
   ]
  },
  {
   "cell_type": "code",
   "execution_count": 83,
   "id": "b996b2be-4bcf-4313-b439-a41b24e67593",
   "metadata": {},
   "outputs": [
    {
     "data": {
      "text/plain": [
       "'python'"
      ]
     },
     "execution_count": 83,
     "metadata": {},
     "output_type": "execute_result"
    }
   ],
   "source": [
    "s"
   ]
  },
  {
   "cell_type": "code",
   "execution_count": 84,
   "id": "be0c027e-a926-48df-8304-94aa62254072",
   "metadata": {},
   "outputs": [
    {
     "data": {
      "text/plain": [
       "6"
      ]
     },
     "execution_count": 84,
     "metadata": {},
     "output_type": "execute_result"
    }
   ],
   "source": [
    "len(s)"
   ]
  },
  {
   "cell_type": "code",
   "execution_count": 85,
   "id": "d51ce27c-f4f2-4118-9425-a196bf32fe6c",
   "metadata": {},
   "outputs": [
    {
     "data": {
      "text/plain": [
       "'python'"
      ]
     },
     "execution_count": 85,
     "metadata": {},
     "output_type": "execute_result"
    }
   ],
   "source": [
    "s"
   ]
  },
  {
   "cell_type": "code",
   "execution_count": 86,
   "id": "e55804bd-6510-411e-83d8-855529dd4b3d",
   "metadata": {},
   "outputs": [
    {
     "data": {
      "text/plain": [
       "'pythonpythonpythonpython'"
      ]
     },
     "execution_count": 86,
     "metadata": {},
     "output_type": "execute_result"
    }
   ],
   "source": [
    "s* 4"
   ]
  },
  {
   "cell_type": "code",
   "execution_count": 90,
   "id": "9a1ec7e7-086c-49a4-bc58-38b6b7671220",
   "metadata": {},
   "outputs": [
    {
     "data": {
      "text/plain": [
       "0"
      ]
     },
     "execution_count": 90,
     "metadata": {},
     "output_type": "execute_result"
    }
   ],
   "source": [
    "s.count('sum')"
   ]
  },
  {
   "cell_type": "code",
   "execution_count": 92,
   "id": "5578a6e0-167a-468f-b5d8-9a70211169d9",
   "metadata": {},
   "outputs": [
    {
     "data": {
      "text/plain": [
       "['python']"
      ]
     },
     "execution_count": 92,
     "metadata": {},
     "output_type": "execute_result"
    }
   ],
   "source": [
    "s.split('u')"
   ]
  },
  {
   "cell_type": "code",
   "execution_count": 91,
   "id": "b10b3ffc-1d92-4886-a660-d62a2ec0d74a",
   "metadata": {},
   "outputs": [
    {
     "data": {
      "text/plain": [
       "list"
      ]
     },
     "execution_count": 91,
     "metadata": {},
     "output_type": "execute_result"
    }
   ],
   "source": [
    "type(s.split('u'))"
   ]
  },
  {
   "cell_type": "code",
   "execution_count": 93,
   "id": "ef666f90-1a4b-4de3-8610-9be1c4cee525",
   "metadata": {},
   "outputs": [
    {
     "data": {
      "text/plain": [
       "['python']"
      ]
     },
     "execution_count": 93,
     "metadata": {},
     "output_type": "execute_result"
    }
   ],
   "source": [
    "s.split('u')"
   ]
  },
  {
   "cell_type": "code",
   "execution_count": 96,
   "id": "b7fb6b76-eece-4653-95cd-f089c9d0a1e9",
   "metadata": {},
   "outputs": [],
   "source": [
    "sw = \"\"\"Samsung Electronics Co., Ltd. is a South Korean multinational major appliance and consumer electronics corporation founded on 13 January 1969 and headquartered in Yeongtong-gu, Suwon, South Korea.\"\"\""
   ]
  },
  {
   "cell_type": "code",
   "execution_count": 98,
   "id": "9392f58a-397b-4c19-ad25-5f7b1ea4a437",
   "metadata": {},
   "outputs": [],
   "source": [
    "sw= \"Samsung Electronics Co., Ltd. is a South Korean multinational major appliance and consumer electronics corporation founded on 13 January 1969 and headquartered in Yeongtong-gu, Suwon, South Korea.\""
   ]
  },
  {
   "cell_type": "code",
   "execution_count": 99,
   "id": "15b16f33-b4d7-4596-a53a-27815fbb5b80",
   "metadata": {},
   "outputs": [
    {
     "data": {
      "text/plain": [
       "['Samsung',\n",
       " 'Electronics',\n",
       " 'Co.,',\n",
       " 'Ltd.',\n",
       " 'is',\n",
       " 'a',\n",
       " 'South',\n",
       " 'Korean',\n",
       " 'multinational',\n",
       " 'major',\n",
       " 'appliance',\n",
       " 'and',\n",
       " 'consumer',\n",
       " 'electronics',\n",
       " 'corporation',\n",
       " 'founded',\n",
       " 'on',\n",
       " '13',\n",
       " 'January',\n",
       " '1969',\n",
       " 'and',\n",
       " 'headquartered',\n",
       " 'in',\n",
       " 'Yeongtong-gu,',\n",
       " 'Suwon,',\n",
       " 'South',\n",
       " 'Korea.']"
      ]
     },
     "execution_count": 99,
     "metadata": {},
     "output_type": "execute_result"
    }
   ],
   "source": [
    "sw.split(' ')"
   ]
  },
  {
   "cell_type": "code",
   "execution_count": 100,
   "id": "cab9cbc9-b76d-42ca-9a5a-3408a4235590",
   "metadata": {},
   "outputs": [
    {
     "data": {
      "text/plain": [
       "'Samsung Electronics Co., Ltd. is a South Korean multinational major appliance and consumer electronics corporation founded on 13 January 1969 and headquartered in Yeongtong-gu, Suwon, South Korea.'"
      ]
     },
     "execution_count": 100,
     "metadata": {},
     "output_type": "execute_result"
    }
   ],
   "source": [
    "sw"
   ]
  },
  {
   "cell_type": "code",
   "execution_count": 101,
   "id": "bcaf61c2-57ed-4d82-8c13-b497429d4cf3",
   "metadata": {},
   "outputs": [
    {
     "data": {
      "text/plain": [
       "'SAMSUNG ELECTRONICS CO., LTD. IS A SOUTH KOREAN MULTINATIONAL MAJOR APPLIANCE AND CONSUMER ELECTRONICS CORPORATION FOUNDED ON 13 JANUARY 1969 AND HEADQUARTERED IN YEONGTONG-GU, SUWON, SOUTH KOREA.'"
      ]
     },
     "execution_count": 101,
     "metadata": {},
     "output_type": "execute_result"
    }
   ],
   "source": [
    "sw.upper()"
   ]
  },
  {
   "cell_type": "code",
   "execution_count": 102,
   "id": "8efc931a-790c-4db5-8a52-41f1cbccf9e4",
   "metadata": {},
   "outputs": [
    {
     "data": {
      "text/plain": [
       "'Samsung Electronics Co., Ltd. is a South Korean multinational major appliance and consumer electronics corporation founded on 13 January 1969 and headquartered in Yeongtong-gu, Suwon, South Korea.'"
      ]
     },
     "execution_count": 102,
     "metadata": {},
     "output_type": "execute_result"
    }
   ],
   "source": [
    "sw"
   ]
  },
  {
   "cell_type": "code",
   "execution_count": 103,
   "id": "a9ac42a4-30f6-4bbf-83c0-8ad6b7d015da",
   "metadata": {},
   "outputs": [
    {
     "data": {
      "text/plain": [
       "'Samsung Electronics Co., Ltd. is a South Korean multinational major appliance and consumer electronics corporation founded on 13 January 1969 and headquartered in Yeongtong-gu, Suwon, South Korea.'"
      ]
     },
     "execution_count": 103,
     "metadata": {},
     "output_type": "execute_result"
    }
   ],
   "source": [
    "sw"
   ]
  },
  {
   "cell_type": "code",
   "execution_count": 104,
   "id": "a9ea2ce0-8265-479f-9018-96a878262982",
   "metadata": {},
   "outputs": [
    {
     "data": {
      "text/plain": [
       "'samsung electronics co., ltd. is a south korean multinational major appliance and consumer electronics corporation founded on 13 january 1969 and headquartered in yeongtong-gu, suwon, south korea.'"
      ]
     },
     "execution_count": 104,
     "metadata": {},
     "output_type": "execute_result"
    }
   ],
   "source": [
    "sw.lower()"
   ]
  },
  {
   "cell_type": "code",
   "execution_count": 105,
   "id": "e2a330b7-d2fe-4e6b-bb85-80a2ef72b1e6",
   "metadata": {},
   "outputs": [],
   "source": [
    "s = \"python class\""
   ]
  },
  {
   "cell_type": "code",
   "execution_count": 106,
   "id": "e3606f9a-0eb8-4a56-b4d8-1d6ebd393f8f",
   "metadata": {},
   "outputs": [
    {
     "data": {
      "text/plain": [
       "'Python Class'"
      ]
     },
     "execution_count": 106,
     "metadata": {},
     "output_type": "execute_result"
    }
   ],
   "source": [
    "s.title()"
   ]
  },
  {
   "cell_type": "code",
   "execution_count": 111,
   "id": "8700c103-cea6-4009-9a1b-4bafa73c18b7",
   "metadata": {},
   "outputs": [],
   "source": [
    "s1 = \"PyThON cLAss\""
   ]
  },
  {
   "cell_type": "code",
   "execution_count": 112,
   "id": "6b4fd388-9fd3-4281-b778-aa4cf4096463",
   "metadata": {},
   "outputs": [
    {
     "data": {
      "text/plain": [
       "'pYtHon ClaSS'"
      ]
     },
     "execution_count": 112,
     "metadata": {},
     "output_type": "execute_result"
    }
   ],
   "source": [
    "s1.swapcase()"
   ]
  },
  {
   "cell_type": "code",
   "execution_count": 113,
   "id": "e82694a3-ffad-4217-b014-241d8a074658",
   "metadata": {},
   "outputs": [
    {
     "data": {
      "text/plain": [
       "'ssALc NOhTyP'"
      ]
     },
     "execution_count": 113,
     "metadata": {},
     "output_type": "execute_result"
    }
   ],
   "source": [
    "''.join(reversed(s))"
   ]
  },
  {
   "cell_type": "code",
   "execution_count": 114,
   "id": "e75a83d1-49f9-4277-b3cb-7adca1302493",
   "metadata": {},
   "outputs": [
    {
     "data": {
      "text/plain": [
       "'ssALc NOhTyP'"
      ]
     },
     "execution_count": 114,
     "metadata": {},
     "output_type": "execute_result"
    }
   ],
   "source": [
    "s[::-1]"
   ]
  },
  {
   "cell_type": "code",
   "execution_count": 116,
   "id": "047abd36-a4c6-480f-a94e-f1dbcc83bb6f",
   "metadata": {},
   "outputs": [],
   "source": [
    "m = \"  py  th  \""
   ]
  },
  {
   "cell_type": "code",
   "execution_count": 121,
   "id": "3b736bdf-7b12-4941-8075-abd56a3c2880",
   "metadata": {},
   "outputs": [
    {
     "data": {
      "text/plain": [
       "'py  th'"
      ]
     },
     "execution_count": 121,
     "metadata": {},
     "output_type": "execute_result"
    }
   ],
   "source": [
    "m.strip()"
   ]
  },
  {
   "cell_type": "code",
   "execution_count": 118,
   "id": "0bcbe0dd-f1f3-414f-8552-3a2165ac9531",
   "metadata": {},
   "outputs": [
    {
     "data": {
      "text/plain": [
       "'  py  th  '"
      ]
     },
     "execution_count": 118,
     "metadata": {},
     "output_type": "execute_result"
    }
   ],
   "source": [
    "m"
   ]
  },
  {
   "cell_type": "code",
   "execution_count": 122,
   "id": "838e29c4-ad32-497a-a80f-dfd30025ae52",
   "metadata": {},
   "outputs": [
    {
     "data": {
      "text/plain": [
       "'  py  th'"
      ]
     },
     "execution_count": 122,
     "metadata": {},
     "output_type": "execute_result"
    }
   ],
   "source": [
    "m.rstrip()"
   ]
  },
  {
   "cell_type": "code",
   "execution_count": 123,
   "id": "abc57ddf-0b47-47ca-8c08-4aeae12f174f",
   "metadata": {},
   "outputs": [
    {
     "data": {
      "text/plain": [
       "'py  th  '"
      ]
     },
     "execution_count": 123,
     "metadata": {},
     "output_type": "execute_result"
    }
   ],
   "source": [
    "m.lstrip()"
   ]
  },
  {
   "cell_type": "code",
   "execution_count": 124,
   "id": "672b2762-9fc6-4fc5-8f3b-899a72733de6",
   "metadata": {},
   "outputs": [
    {
     "data": {
      "text/plain": [
       "'payatahaoan'"
      ]
     },
     "execution_count": 124,
     "metadata": {},
     "output_type": "execute_result"
    }
   ],
   "source": [
    "\"a\" . join(\"python\")"
   ]
  },
  {
   "cell_type": "code",
   "execution_count": 125,
   "id": "9910ae10-61ec-4efb-aba5-3d77ce549235",
   "metadata": {},
   "outputs": [],
   "source": [
    "s= \"pyth\""
   ]
  },
  {
   "cell_type": "code",
   "execution_count": 129,
   "id": "bfce20da-68ab-4d86-80ab-8fc5f5ce4038",
   "metadata": {},
   "outputs": [
    {
     "data": {
      "text/plain": [
       "'########pyth########'"
      ]
     },
     "execution_count": 129,
     "metadata": {},
     "output_type": "execute_result"
    }
   ],
   "source": [
    "s.center(20, '#')"
   ]
  },
  {
   "cell_type": "code",
   "execution_count": 130,
   "id": "009961eb-83b9-465b-afc2-b1b2c2359d79",
   "metadata": {},
   "outputs": [],
   "source": [
    "s=\"python\""
   ]
  },
  {
   "cell_type": "code",
   "execution_count": 131,
   "id": "403be7c8-1ecc-4dce-a832-f00ae309edf3",
   "metadata": {},
   "outputs": [
    {
     "data": {
      "text/plain": [
       "False"
      ]
     },
     "execution_count": 131,
     "metadata": {},
     "output_type": "execute_result"
    }
   ],
   "source": [
    "s.isupper()"
   ]
  },
  {
   "cell_type": "code",
   "execution_count": 132,
   "id": "56d4ff4f-3645-4b7e-9610-47d120056283",
   "metadata": {},
   "outputs": [],
   "source": [
    "s2 = \"PYTHON\""
   ]
  },
  {
   "cell_type": "code",
   "execution_count": 134,
   "id": "f816071d-9fa0-4b33-b3a8-a6c5d531ed54",
   "metadata": {},
   "outputs": [
    {
     "data": {
      "text/plain": [
       "True"
      ]
     },
     "execution_count": 134,
     "metadata": {},
     "output_type": "execute_result"
    }
   ],
   "source": [
    "s2.isupper()"
   ]
  },
  {
   "cell_type": "code",
   "execution_count": 135,
   "id": "e6be8f27-d0d5-4f58-ae9d-b48f4663e31e",
   "metadata": {},
   "outputs": [],
   "source": [
    "s4 =\"  \""
   ]
  },
  {
   "cell_type": "code",
   "execution_count": 136,
   "id": "e3ce02a7-05e3-4076-9d2e-2b5a6db73f92",
   "metadata": {},
   "outputs": [
    {
     "data": {
      "text/plain": [
       "True"
      ]
     },
     "execution_count": 136,
     "metadata": {},
     "output_type": "execute_result"
    }
   ],
   "source": [
    "s4.isspace()"
   ]
  },
  {
   "cell_type": "code",
   "execution_count": 137,
   "id": "0396a8f3-28c1-4f3b-b2b2-ed94493978a7",
   "metadata": {},
   "outputs": [
    {
     "data": {
      "text/plain": [
       "False"
      ]
     },
     "execution_count": 137,
     "metadata": {},
     "output_type": "execute_result"
    }
   ],
   "source": [
    "s.isdigit()"
   ]
  },
  {
   "cell_type": "code",
   "execution_count": 138,
   "id": "6df169f2-03f8-44a7-89b0-657ddf6a6715",
   "metadata": {},
   "outputs": [],
   "source": [
    "s5 = \"12354\""
   ]
  },
  {
   "cell_type": "code",
   "execution_count": 139,
   "id": "ef3b95bd-7f27-4f8a-9af3-e84a48959d98",
   "metadata": {},
   "outputs": [
    {
     "data": {
      "text/plain": [
       "True"
      ]
     },
     "execution_count": 139,
     "metadata": {},
     "output_type": "execute_result"
    }
   ],
   "source": [
    "s5.isdigit()"
   ]
  },
  {
   "cell_type": "code",
   "execution_count": 140,
   "id": "1919b7c8-04b9-41f4-9680-77e2ef698d49",
   "metadata": {},
   "outputs": [
    {
     "data": {
      "text/plain": [
       "'python'"
      ]
     },
     "execution_count": 140,
     "metadata": {},
     "output_type": "execute_result"
    }
   ],
   "source": [
    "s"
   ]
  },
  {
   "cell_type": "code",
   "execution_count": 141,
   "id": "8977d931-0d44-47ef-982f-6fa2f553608d",
   "metadata": {},
   "outputs": [],
   "source": [
    "s6 =\"sdf3456\""
   ]
  },
  {
   "cell_type": "code",
   "execution_count": 143,
   "id": "84744e23-3d08-4b7c-8696-9a745a2ab3d7",
   "metadata": {},
   "outputs": [
    {
     "data": {
      "text/plain": [
       "False"
      ]
     },
     "execution_count": 143,
     "metadata": {},
     "output_type": "execute_result"
    }
   ],
   "source": [
    "s6.isdigit()"
   ]
  },
  {
   "cell_type": "code",
   "execution_count": 144,
   "id": "747d842f-1ee1-4439-91ca-72c56b3b2e70",
   "metadata": {},
   "outputs": [
    {
     "data": {
      "text/plain": [
       "'python'"
      ]
     },
     "execution_count": 144,
     "metadata": {},
     "output_type": "execute_result"
    }
   ],
   "source": [
    "s"
   ]
  },
  {
   "cell_type": "code",
   "execution_count": 145,
   "id": "d0472471-a7de-404e-b8b8-9dcfa860da6f",
   "metadata": {},
   "outputs": [
    {
     "data": {
      "text/plain": [
       "True"
      ]
     },
     "execution_count": 145,
     "metadata": {},
     "output_type": "execute_result"
    }
   ],
   "source": [
    "s.isalnum()"
   ]
  },
  {
   "cell_type": "code",
   "execution_count": 146,
   "id": "deb272f6-c58c-4afc-a674-914903b2fe2d",
   "metadata": {},
   "outputs": [],
   "source": [
    "s7 = \"33333ndftr\""
   ]
  },
  {
   "cell_type": "code",
   "execution_count": 147,
   "id": "42c7edda-a982-4f6e-8f89-2cdd4777ee22",
   "metadata": {},
   "outputs": [
    {
     "data": {
      "text/plain": [
       "False"
      ]
     },
     "execution_count": 147,
     "metadata": {},
     "output_type": "execute_result"
    }
   ],
   "source": [
    "s7.isalpha()"
   ]
  },
  {
   "cell_type": "code",
   "execution_count": 148,
   "id": "df5049cc-72e6-4898-958e-0c94a2288252",
   "metadata": {},
   "outputs": [
    {
     "data": {
      "text/plain": [
       "'python'"
      ]
     },
     "execution_count": 148,
     "metadata": {},
     "output_type": "execute_result"
    }
   ],
   "source": [
    "s"
   ]
  },
  {
   "cell_type": "code",
   "execution_count": 150,
   "id": "42d250ab-8a7b-4da6-a96f-16a75d01d507",
   "metadata": {},
   "outputs": [
    {
     "data": {
      "text/plain": [
       "False"
      ]
     },
     "execution_count": 150,
     "metadata": {},
     "output_type": "execute_result"
    }
   ],
   "source": [
    "s.startswith('i')"
   ]
  },
  {
   "cell_type": "code",
   "execution_count": 151,
   "id": "a5728ee6-047a-41b5-82f5-25355af41397",
   "metadata": {},
   "outputs": [
    {
     "data": {
      "text/plain": [
       "False"
      ]
     },
     "execution_count": 151,
     "metadata": {},
     "output_type": "execute_result"
    }
   ],
   "source": [
    "s.startswith('s')"
   ]
  },
  {
   "cell_type": "code",
   "execution_count": 152,
   "id": "c611e4fd-4051-4e28-ab2a-e525fd8c3dc3",
   "metadata": {},
   "outputs": [
    {
     "data": {
      "text/plain": [
       "False"
      ]
     },
     "execution_count": 152,
     "metadata": {},
     "output_type": "execute_result"
    }
   ],
   "source": [
    "s.startswith('S')"
   ]
  },
  {
   "cell_type": "code",
   "execution_count": 153,
   "id": "d91ce3db-ece8-4769-89be-1d4a3b8298ca",
   "metadata": {},
   "outputs": [
    {
     "data": {
      "text/plain": [
       "True"
      ]
     },
     "execution_count": 153,
     "metadata": {},
     "output_type": "execute_result"
    }
   ],
   "source": [
    "s.endswith('n')"
   ]
  },
  {
   "cell_type": "code",
   "execution_count": 154,
   "id": "c26c8884-145c-4452-aa09-d59925e19c02",
   "metadata": {},
   "outputs": [
    {
     "data": {
      "text/plain": [
       "False"
      ]
     },
     "execution_count": 154,
     "metadata": {},
     "output_type": "execute_result"
    }
   ],
   "source": [
    "s.endswith('u')"
   ]
  },
  {
   "cell_type": "code",
   "execution_count": 155,
   "id": "ce5b9303-2e84-40e2-89f0-cd411dba14f8",
   "metadata": {},
   "outputs": [
    {
     "data": {
      "text/plain": [
       "True"
      ]
     },
     "execution_count": 155,
     "metadata": {},
     "output_type": "execute_result"
    }
   ],
   "source": [
    "s.startswith('')"
   ]
  },
  {
   "cell_type": "code",
   "execution_count": 156,
   "id": "dc754a4b-b5a7-4900-a873-15cb41a57c0a",
   "metadata": {},
   "outputs": [
    {
     "data": {
      "text/plain": [
       "'python'"
      ]
     },
     "execution_count": 156,
     "metadata": {},
     "output_type": "execute_result"
    }
   ],
   "source": [
    "s"
   ]
  },
  {
   "cell_type": "code",
   "execution_count": 157,
   "id": "f04f8f96-796e-4314-83e6-e481d9247877",
   "metadata": {},
   "outputs": [
    {
     "data": {
      "text/plain": [
       "True"
      ]
     },
     "execution_count": 157,
     "metadata": {},
     "output_type": "execute_result"
    }
   ],
   "source": [
    "s.isascii()"
   ]
  },
  {
   "cell_type": "code",
   "execution_count": 158,
   "id": "64f0bfd5-3bca-411b-8562-5ef8cfd7e195",
   "metadata": {},
   "outputs": [
    {
     "data": {
      "text/plain": [
       "True"
      ]
     },
     "execution_count": 158,
     "metadata": {},
     "output_type": "execute_result"
    }
   ],
   "source": [
    "s = 'python123'\n",
    "\n",
    "s.isalnum()"
   ]
  },
  {
   "cell_type": "code",
   "execution_count": 159,
   "id": "713fb92a-2510-46e1-8c5d-fec2cad1fbee",
   "metadata": {},
   "outputs": [
    {
     "data": {
      "text/plain": [
       "False"
      ]
     },
     "execution_count": 159,
     "metadata": {},
     "output_type": "execute_result"
    }
   ],
   "source": [
    "s= '5'\n",
    "s.isspace()"
   ]
  },
  {
   "cell_type": "code",
   "execution_count": 164,
   "id": "d5df7131-ab79-458d-aa90-6e5558572673",
   "metadata": {},
   "outputs": [],
   "source": [
    "s = \"6  \""
   ]
  },
  {
   "cell_type": "code",
   "execution_count": 165,
   "id": "53e46b44-3dfb-4993-a118-b01520383540",
   "metadata": {},
   "outputs": [
    {
     "data": {
      "text/plain": [
       "False"
      ]
     },
     "execution_count": 165,
     "metadata": {},
     "output_type": "execute_result"
    }
   ],
   "source": [
    "s.isspace()"
   ]
  },
  {
   "cell_type": "code",
   "execution_count": 166,
   "id": "302efef3-251f-4680-9c57-91f1ba94bf3d",
   "metadata": {},
   "outputs": [],
   "source": [
    " s2 = \"2343 3453 2346 8756\""
   ]
  },
  {
   "cell_type": "code",
   "execution_count": 167,
   "id": "c984f398-7ab5-4037-b21d-2e14666f6e8d",
   "metadata": {},
   "outputs": [
    {
     "data": {
      "text/plain": [
       "False"
      ]
     },
     "execution_count": 167,
     "metadata": {},
     "output_type": "execute_result"
    }
   ],
   "source": [
    "s2.isnumeric()"
   ]
  },
  {
   "cell_type": "code",
   "execution_count": 173,
   "id": "f171681a-21d9-4622-9d3e-0ef9ee1d60df",
   "metadata": {},
   "outputs": [],
   "source": [
    "s= \"6 \""
   ]
  },
  {
   "cell_type": "code",
   "execution_count": 175,
   "id": "de8bdd6e-015a-4624-9a40-715147e83546",
   "metadata": {},
   "outputs": [
    {
     "data": {
      "text/plain": [
       "False"
      ]
     },
     "execution_count": 175,
     "metadata": {},
     "output_type": "execute_result"
    }
   ],
   "source": [
    "s.isnumeric()"
   ]
  },
  {
   "cell_type": "code",
   "execution_count": 176,
   "id": "31dc4d33-6cc2-4dd1-9690-e670ca5d4049",
   "metadata": {},
   "outputs": [],
   "source": [
    "s= 56"
   ]
  },
  {
   "cell_type": "code",
   "execution_count": 177,
   "id": "a7014557-4d0d-4ff2-be96-0f6a3600b85c",
   "metadata": {},
   "outputs": [],
   "source": [
    "s = \"pyth\""
   ]
  },
  {
   "cell_type": "code",
   "execution_count": 178,
   "id": "27c40f79-bb30-401f-9580-c31b022c14a8",
   "metadata": {},
   "outputs": [
    {
     "data": {
      "text/plain": [
       "'pdydtdhdodn'"
      ]
     },
     "execution_count": 178,
     "metadata": {},
     "output_type": "execute_result"
    }
   ],
   "source": [
    "'d'.join(\"python\")"
   ]
  },
  {
   "cell_type": "code",
   "execution_count": 179,
   "id": "6f82e0f3-b198-45d8-bcc8-d1c7603e7e42",
   "metadata": {},
   "outputs": [],
   "source": [
    "s= 'python\\tclass\\tprogram'"
   ]
  },
  {
   "cell_type": "code",
   "execution_count": 180,
   "id": "39cf1910-290c-48e8-8b61-0e5c74240052",
   "metadata": {},
   "outputs": [
    {
     "data": {
      "text/plain": [
       "'python  class   program'"
      ]
     },
     "execution_count": 180,
     "metadata": {},
     "output_type": "execute_result"
    }
   ],
   "source": [
    "s.expandtabs()"
   ]
  },
  {
   "cell_type": "code",
   "execution_count": 181,
   "id": "cfc84722-2ad7-420b-b235-c92cff8384d6",
   "metadata": {},
   "outputs": [],
   "source": [
    "s= \"hhe\\tgge\\thhh\""
   ]
  },
  {
   "cell_type": "code",
   "execution_count": 184,
   "id": "dd11ae3b-55e2-47e0-82c8-34db13822c39",
   "metadata": {},
   "outputs": [
    {
     "data": {
      "text/plain": [
       "'hhe     gge     hhh'"
      ]
     },
     "execution_count": 184,
     "metadata": {},
     "output_type": "execute_result"
    }
   ],
   "source": [
    "s.expandtabs()"
   ]
  },
  {
   "cell_type": "code",
   "execution_count": null,
   "id": "b7e8d2f3-9621-4848-8b3a-b36c11b9f7ec",
   "metadata": {},
   "outputs": [],
   "source": []
  },
  {
   "cell_type": "code",
   "execution_count": 190,
   "id": "c7321e59-88cb-4153-9dbf-d0bd4780ac29",
   "metadata": {},
   "outputs": [],
   "source": [
    "##List, Tuples, Dict, Set"
   ]
  },
  {
   "cell_type": "code",
   "execution_count": 185,
   "id": "3d128f24-c089-441b-b9ab-13a7ec62a498",
   "metadata": {},
   "outputs": [],
   "source": [
    "l = [1,2,3,4,5, \"python\", 45.67, True]"
   ]
  },
  {
   "cell_type": "code",
   "execution_count": 186,
   "id": "94571d32-485e-4aee-a55d-9e27f6214f1f",
   "metadata": {},
   "outputs": [
    {
     "data": {
      "text/plain": [
       "1"
      ]
     },
     "execution_count": 186,
     "metadata": {},
     "output_type": "execute_result"
    }
   ],
   "source": [
    "l[0]"
   ]
  },
  {
   "cell_type": "code",
   "execution_count": 187,
   "id": "a509394b-28b3-4d5a-86ab-25aeee3bef3c",
   "metadata": {},
   "outputs": [
    {
     "data": {
      "text/plain": [
       "True"
      ]
     },
     "execution_count": 187,
     "metadata": {},
     "output_type": "execute_result"
    }
   ],
   "source": [
    "l[-1]"
   ]
  },
  {
   "cell_type": "code",
   "execution_count": 188,
   "id": "966449dd-db8c-4d24-951e-4ad4cfd2c36e",
   "metadata": {},
   "outputs": [
    {
     "data": {
      "text/plain": [
       "8"
      ]
     },
     "execution_count": 188,
     "metadata": {},
     "output_type": "execute_result"
    }
   ],
   "source": [
    "len(l)"
   ]
  },
  {
   "cell_type": "code",
   "execution_count": 191,
   "id": "052fd198-81d9-4645-8f2c-00a04451f0da",
   "metadata": {},
   "outputs": [
    {
     "data": {
      "text/plain": [
       "[1, 2, 3, 4, 5]"
      ]
     },
     "execution_count": 191,
     "metadata": {},
     "output_type": "execute_result"
    }
   ],
   "source": [
    "l[0:5]"
   ]
  },
  {
   "cell_type": "code",
   "execution_count": 192,
   "id": "b65b3786-d1e0-4a50-bdfb-9b4ee1152125",
   "metadata": {},
   "outputs": [
    {
     "data": {
      "text/plain": [
       "[True, 45.67, 'python', 5, 4, 3, 2, 1]"
      ]
     },
     "execution_count": 192,
     "metadata": {},
     "output_type": "execute_result"
    }
   ],
   "source": [
    "l[::-1]"
   ]
  },
  {
   "cell_type": "code",
   "execution_count": 193,
   "id": "0352a63f-39ba-4aa4-b063-e3b027ec3510",
   "metadata": {},
   "outputs": [
    {
     "data": {
      "text/plain": [
       "[1, 3, 5, 45.67]"
      ]
     },
     "execution_count": 193,
     "metadata": {},
     "output_type": "execute_result"
    }
   ],
   "source": [
    "l[0:100:2]"
   ]
  },
  {
   "cell_type": "code",
   "execution_count": 194,
   "id": "19108344-1dc5-47cd-8ac4-a6a27ea1fc80",
   "metadata": {},
   "outputs": [
    {
     "data": {
      "text/plain": [
       "[1, 2, 3, 4, 5, 'python', 45.67, True]"
      ]
     },
     "execution_count": 194,
     "metadata": {},
     "output_type": "execute_result"
    }
   ],
   "source": [
    "l"
   ]
  },
  {
   "cell_type": "code",
   "execution_count": 195,
   "id": "f3559d1b-6160-4724-b52b-7c8c3b7b3d84",
   "metadata": {},
   "outputs": [
    {
     "data": {
      "text/plain": [
       "[]"
      ]
     },
     "execution_count": 195,
     "metadata": {},
     "output_type": "execute_result"
    }
   ],
   "source": [
    "l[0:8:-1]"
   ]
  },
  {
   "cell_type": "code",
   "execution_count": 196,
   "id": "0b04f260-df41-46c8-bf94-1d693ccebcf2",
   "metadata": {},
   "outputs": [
    {
     "data": {
      "text/plain": [
       "[1, 2, 3]"
      ]
     },
     "execution_count": 196,
     "metadata": {},
     "output_type": "execute_result"
    }
   ],
   "source": [
    "l[:3]"
   ]
  },
  {
   "cell_type": "code",
   "execution_count": 197,
   "id": "d7b19197-c412-4eb3-939e-0940b4f1cfdd",
   "metadata": {},
   "outputs": [
    {
     "data": {
      "text/plain": [
       "[1, 2, 3, 4, 5, 'python', 45.67, True, 'pthon']"
      ]
     },
     "execution_count": 197,
     "metadata": {},
     "output_type": "execute_result"
    }
   ],
   "source": [
    "l + [\"pthon\"]"
   ]
  },
  {
   "cell_type": "code",
   "execution_count": 198,
   "id": "c5c64ab3-2d46-449c-a6da-b05709b326cb",
   "metadata": {},
   "outputs": [
    {
     "data": {
      "text/plain": [
       "[1, 2, 3, 4, 5, 'python', 45.67, True, 1, 2, 3, 4, 5, 'python', 45.67, True]"
      ]
     },
     "execution_count": 198,
     "metadata": {},
     "output_type": "execute_result"
    }
   ],
   "source": [
    "l * 2"
   ]
  },
  {
   "cell_type": "code",
   "execution_count": 199,
   "id": "4a108ec0-1dcd-4645-9edf-914aa99798a9",
   "metadata": {},
   "outputs": [
    {
     "data": {
      "text/plain": [
       "[1, 2, 3, 4, 5, 'python', 45.67, True]"
      ]
     },
     "execution_count": 199,
     "metadata": {},
     "output_type": "execute_result"
    }
   ],
   "source": [
    "l"
   ]
  },
  {
   "cell_type": "code",
   "execution_count": 200,
   "id": "5c008e3d-8017-4868-a854-2cbffc733b6c",
   "metadata": {},
   "outputs": [
    {
     "data": {
      "text/plain": [
       "False"
      ]
     },
     "execution_count": 200,
     "metadata": {},
     "output_type": "execute_result"
    }
   ],
   "source": [
    "60 in l"
   ]
  },
  {
   "cell_type": "code",
   "execution_count": 201,
   "id": "49731b14-f2ed-435a-aa38-0eb43ce4d25b",
   "metadata": {},
   "outputs": [
    {
     "data": {
      "text/plain": [
       "True"
      ]
     },
     "execution_count": 201,
     "metadata": {},
     "output_type": "execute_result"
    }
   ],
   "source": [
    "1 in l"
   ]
  },
  {
   "cell_type": "code",
   "execution_count": 202,
   "id": "be545cb0-d7fa-4c4f-9dfa-b52b2e79bb1b",
   "metadata": {},
   "outputs": [
    {
     "data": {
      "text/plain": [
       "True"
      ]
     },
     "execution_count": 202,
     "metadata": {},
     "output_type": "execute_result"
    }
   ],
   "source": [
    "2 in l"
   ]
  },
  {
   "cell_type": "code",
   "execution_count": 203,
   "id": "64b0e113-467f-433f-977c-c8669a019ecb",
   "metadata": {},
   "outputs": [
    {
     "ename": "TypeError",
     "evalue": "'>' not supported between instances of 'str' and 'int'",
     "output_type": "error",
     "traceback": [
      "\u001b[1;31m---------------------------------------------------------------------------\u001b[0m",
      "\u001b[1;31mTypeError\u001b[0m                                 Traceback (most recent call last)",
      "Cell \u001b[1;32mIn[203], line 1\u001b[0m\n\u001b[1;32m----> 1\u001b[0m \u001b[38;5;28;43mmax\u001b[39;49m\u001b[43m(\u001b[49m\u001b[43ml\u001b[49m\u001b[43m)\u001b[49m\n",
      "\u001b[1;31mTypeError\u001b[0m: '>' not supported between instances of 'str' and 'int'"
     ]
    }
   ],
   "source": [
    "max(l)"
   ]
  },
  {
   "cell_type": "code",
   "execution_count": 204,
   "id": "aa12c253-a4c3-4b16-a025-ca66f8009758",
   "metadata": {},
   "outputs": [],
   "source": [
    "l1 = [3,4,5,6]"
   ]
  },
  {
   "cell_type": "code",
   "execution_count": 205,
   "id": "b38a25e9-d082-4df5-b84b-6f4e2c77edd1",
   "metadata": {},
   "outputs": [
    {
     "data": {
      "text/plain": [
       "6"
      ]
     },
     "execution_count": 205,
     "metadata": {},
     "output_type": "execute_result"
    }
   ],
   "source": [
    "max(l1)"
   ]
  },
  {
   "cell_type": "code",
   "execution_count": 206,
   "id": "b5b51183-9249-4c7f-85fb-07dd7d4c0116",
   "metadata": {},
   "outputs": [],
   "source": [
    "l2 = [\"python\", \"deep\", \"learning\"]"
   ]
  },
  {
   "cell_type": "code",
   "execution_count": 207,
   "id": "839edc98-9f4e-4201-9045-eaa2b630c935",
   "metadata": {},
   "outputs": [
    {
     "data": {
      "text/plain": [
       "'python'"
      ]
     },
     "execution_count": 207,
     "metadata": {},
     "output_type": "execute_result"
    }
   ],
   "source": [
    "max(l2)"
   ]
  },
  {
   "cell_type": "code",
   "execution_count": 208,
   "id": "4066679a-97e3-440b-9385-fd90c7c54412",
   "metadata": {},
   "outputs": [
    {
     "data": {
      "text/plain": [
       "'deep'"
      ]
     },
     "execution_count": 208,
     "metadata": {},
     "output_type": "execute_result"
    }
   ],
   "source": [
    "min(l2)"
   ]
  },
  {
   "cell_type": "code",
   "execution_count": 209,
   "id": "66861136-c231-4345-bf71-158ebf49517d",
   "metadata": {},
   "outputs": [
    {
     "data": {
      "text/plain": [
       "[1, 2, 3, 4, 5, 'python', 45.67, True]"
      ]
     },
     "execution_count": 209,
     "metadata": {},
     "output_type": "execute_result"
    }
   ],
   "source": [
    "l"
   ]
  },
  {
   "cell_type": "code",
   "execution_count": 210,
   "id": "e82470c9-028a-4f87-8a69-d7b5a6017f6e",
   "metadata": {},
   "outputs": [],
   "source": [
    "l.append(\"python\")"
   ]
  },
  {
   "cell_type": "code",
   "execution_count": 211,
   "id": "a64abf56-49f4-4594-a1c0-7cbd8068a3c8",
   "metadata": {},
   "outputs": [
    {
     "data": {
      "text/plain": [
       "[1, 2, 3, 4, 5, 'python', 45.67, True, 'python']"
      ]
     },
     "execution_count": 211,
     "metadata": {},
     "output_type": "execute_result"
    }
   ],
   "source": [
    "l"
   ]
  },
  {
   "cell_type": "code",
   "execution_count": 212,
   "id": "cd721c1b-acd0-42f5-a865-90ca713ff73a",
   "metadata": {},
   "outputs": [],
   "source": [
    "l.append([1,2,3,4])"
   ]
  },
  {
   "cell_type": "code",
   "execution_count": 213,
   "id": "f1297a58-6e84-4c7c-ae9c-8231a309824b",
   "metadata": {},
   "outputs": [
    {
     "data": {
      "text/plain": [
       "[1, 2, 3, 4, 5, 'python', 45.67, True, 'python', [1, 2, 3, 4]]"
      ]
     },
     "execution_count": 213,
     "metadata": {},
     "output_type": "execute_result"
    }
   ],
   "source": [
    "l"
   ]
  },
  {
   "cell_type": "code",
   "execution_count": 214,
   "id": "39ce93dc-50f0-4e35-a6d9-67c943c4c14d",
   "metadata": {},
   "outputs": [
    {
     "data": {
      "text/plain": [
       "1"
      ]
     },
     "execution_count": 214,
     "metadata": {},
     "output_type": "execute_result"
    }
   ],
   "source": [
    "l.pop(0)"
   ]
  },
  {
   "cell_type": "code",
   "execution_count": 215,
   "id": "19ad7336-ce81-4a0b-a06f-4669e15e5a8b",
   "metadata": {},
   "outputs": [
    {
     "data": {
      "text/plain": [
       "[1, 2, 3, 4]"
      ]
     },
     "execution_count": 215,
     "metadata": {},
     "output_type": "execute_result"
    }
   ],
   "source": [
    "l.pop()"
   ]
  },
  {
   "cell_type": "code",
   "execution_count": 216,
   "id": "283098eb-06bc-4ba1-b738-08f74e8cce9d",
   "metadata": {},
   "outputs": [
    {
     "data": {
      "text/plain": [
       "[2, 3, 4, 5, 'python', 45.67, True, 'python']"
      ]
     },
     "execution_count": 216,
     "metadata": {},
     "output_type": "execute_result"
    }
   ],
   "source": [
    "l"
   ]
  },
  {
   "cell_type": "code",
   "execution_count": 217,
   "id": "4b6f452c-1b96-4db5-8faa-95fa321f114c",
   "metadata": {},
   "outputs": [],
   "source": [
    "l.reverse()"
   ]
  },
  {
   "cell_type": "code",
   "execution_count": 218,
   "id": "8b13de56-2d39-43ba-aac2-4a4c47834ac5",
   "metadata": {},
   "outputs": [
    {
     "data": {
      "text/plain": [
       "['python', True, 45.67, 'python', 5, 4, 3, 2]"
      ]
     },
     "execution_count": 218,
     "metadata": {},
     "output_type": "execute_result"
    }
   ],
   "source": [
    "l"
   ]
  },
  {
   "cell_type": "code",
   "execution_count": 220,
   "id": "dc797963-613c-4cac-909b-957db92d58f2",
   "metadata": {},
   "outputs": [],
   "source": [
    "l =l[::-1]"
   ]
  },
  {
   "cell_type": "code",
   "execution_count": 221,
   "id": "3c3d18de-6f51-45eb-a491-fbb22acc90b6",
   "metadata": {},
   "outputs": [
    {
     "data": {
      "text/plain": [
       "[2, 3, 4, 5, 'python', 45.67, True, 'python']"
      ]
     },
     "execution_count": 221,
     "metadata": {},
     "output_type": "execute_result"
    }
   ],
   "source": [
    "l"
   ]
  },
  {
   "cell_type": "code",
   "execution_count": 222,
   "id": "204c6f74-a779-40a8-bbf3-f286477c61f1",
   "metadata": {},
   "outputs": [
    {
     "ename": "TypeError",
     "evalue": "'<' not supported between instances of 'str' and 'int'",
     "output_type": "error",
     "traceback": [
      "\u001b[1;31m---------------------------------------------------------------------------\u001b[0m",
      "\u001b[1;31mTypeError\u001b[0m                                 Traceback (most recent call last)",
      "Cell \u001b[1;32mIn[222], line 1\u001b[0m\n\u001b[1;32m----> 1\u001b[0m \u001b[43ml\u001b[49m\u001b[38;5;241;43m.\u001b[39;49m\u001b[43msort\u001b[49m\u001b[43m(\u001b[49m\u001b[43m)\u001b[49m\n",
      "\u001b[1;31mTypeError\u001b[0m: '<' not supported between instances of 'str' and 'int'"
     ]
    }
   ],
   "source": [
    "l.sort()"
   ]
  },
  {
   "cell_type": "code",
   "execution_count": 223,
   "id": "519060c1-cee8-4006-a1d2-29cc8605cc4d",
   "metadata": {},
   "outputs": [],
   "source": [
    "l2 =[5,6,2,7,4,1,]"
   ]
  },
  {
   "cell_type": "code",
   "execution_count": 224,
   "id": "e33eba27-e31a-4d5d-ba1e-8d47c66e3336",
   "metadata": {},
   "outputs": [],
   "source": [
    "l2.sort()"
   ]
  },
  {
   "cell_type": "code",
   "execution_count": 225,
   "id": "af0b1203-c392-4e19-a957-3f3d6bd9a6af",
   "metadata": {},
   "outputs": [
    {
     "data": {
      "text/plain": [
       "[1, 2, 4, 5, 6, 7]"
      ]
     },
     "execution_count": 225,
     "metadata": {},
     "output_type": "execute_result"
    }
   ],
   "source": [
    "l2"
   ]
  },
  {
   "cell_type": "code",
   "execution_count": 227,
   "id": "8a9dcebc-4a54-41e9-b13f-d96a3e24c6d1",
   "metadata": {},
   "outputs": [],
   "source": [
    "l3=[\"m\",\"d\",\"f\",\"a\",\"z\"]"
   ]
  },
  {
   "cell_type": "code",
   "execution_count": 228,
   "id": "33a54e7c-73f4-4052-9262-ca855d3ac1e7",
   "metadata": {},
   "outputs": [],
   "source": [
    "l3.sort()"
   ]
  },
  {
   "cell_type": "code",
   "execution_count": 229,
   "id": "3f9c459c-5626-449a-ae7e-c99abf353366",
   "metadata": {},
   "outputs": [
    {
     "data": {
      "text/plain": [
       "['a', 'd', 'f', 'm', 'z']"
      ]
     },
     "execution_count": 229,
     "metadata": {},
     "output_type": "execute_result"
    }
   ],
   "source": [
    "l3"
   ]
  },
  {
   "cell_type": "code",
   "execution_count": null,
   "id": "d49300f1-ee43-48f3-8131-2a4ec16c6878",
   "metadata": {},
   "outputs": [],
   "source": []
  }
 ],
 "metadata": {
  "kernelspec": {
   "display_name": "Python 3 (ipykernel)",
   "language": "python",
   "name": "python3"
  },
  "language_info": {
   "codemirror_mode": {
    "name": "ipython",
    "version": 3
   },
   "file_extension": ".py",
   "mimetype": "text/x-python",
   "name": "python",
   "nbconvert_exporter": "python",
   "pygments_lexer": "ipython3",
   "version": "3.12.5"
  }
 },
 "nbformat": 4,
 "nbformat_minor": 5
}
